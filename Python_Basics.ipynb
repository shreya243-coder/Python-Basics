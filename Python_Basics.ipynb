{
  "nbformat": 4,
  "nbformat_minor": 0,
  "metadata": {
    "colab": {
      "provenance": []
    },
    "kernelspec": {
      "name": "python3",
      "display_name": "Python 3"
    },
    "language_info": {
      "name": "python"
    }
  },
  "cells": [
    {
      "cell_type": "markdown",
      "source": [
        "#Python Basics"
      ],
      "metadata": {
        "id": "gtQ-PkSzrIMa"
      }
    },
    {
      "cell_type": "markdown",
      "source": [
        "1.What is Python, and why is it popular?\n",
        "\n",
        "->Python is a high-level, interpreted, and general-purpose programming language. It was created by Guido van Rossum in 1991. Python is known for its simple syntax, readability, and support for multiple programming paradigms (procedural, object-oriented, and functional programming).  \n",
        "  Why is Python Popular?\n",
        "1. **Easy to Learn and Read** – Python has a simple syntax that is easy to understand, even for beginners.  \n",
        "2. **Versatile and Multi-Purpose** – It is used in various fields like Web Development, Data Science, Machine Learning, Automation, and Cybersecurity.  \n",
        "3. **Rich Libraries and Frameworks** – Python offers powerful libraries like NumPy, Pandas, TensorFlow, Django, and Flask, making development easier.  \n",
        "4. **Strong Community Support** – A large global community helps with learning resources and troubleshooting.  \n",
        "5. **Cross-Platform Compatibility** – Python runs on Windows, macOS, and Linux without modification.  \n",
        "\n",
        "\n"
      ],
      "metadata": {
        "id": "jHjgxg_4rbTs"
      }
    },
    {
      "cell_type": "markdown",
      "source": [
        "2. What is an interpreter in Python?\n",
        "\n",
        "-> A Python interpreter is a program that executes Python code line by line, without compiling the entire code at once. It translates Python code into machine instructions and runs them immediately.  \n",
        "\n",
        " Examples of Python Interpreters:\n",
        "- **CPython** (default)  \n",
        "- **PyPy** (faster execution)  \n",
        "- **Jython** (for Java)  \n",
        "- **IronPython** (for .NET)  \n",
        "\n",
        "Key Features:  \n",
        " Executes code line by line  \n",
        " Helps in easy debugging\n",
        " Supports interactive execution (Python shell `>>>`)  \n"
      ],
      "metadata": {
        "id": "YYCR70ELsPZo"
      }
    },
    {
      "cell_type": "markdown",
      "source": [
        "3.What are pre-defined keywords in Python?\n",
        "\n",
        "-> Pre-defined Keywords in Python:  \n",
        "Pre-defined keywords in Python are reserved words that have special meanings and cannot be used as variable names.  \n",
        "\n",
        " **Examples:**  \n",
        " **Control Flow:** `if`, `else`, `for`, `while`, `break`  \n",
        " **Functions & Classes:** `def`, `return`, `class`, `lambda`  \n",
        " **Exception Handling:** `try`, `except`, `raise`  \n",
        " **Boolean & None:** `True`, `False`, `None`  \n",
        " **Operators:** `and`, `or`, `not`, `is`, `in`  \n",
        "\n"
      ],
      "metadata": {
        "id": "9yWGXzFAxNmW"
      }
    },
    {
      "cell_type": "markdown",
      "source": [
        "4. Can keywords be used as variable names?\n",
        "\n",
        "-> No, Python keywords cannot be used as variable names because they have predefined meanings and special functions in the language.  \n",
        "\n",
        "**Example (Incorrect Usage)**  \n",
        "```python\n",
        "if = 10  # ❌ SyntaxError: invalid syntax\n",
        "print(if)\n",
        "```\n",
        "\n",
        " **Example (Correct Usage)**  \n",
        "If you need a variable name similar to a keyword, you can modify it:  \n",
        "```python\n",
        "if_value = 10  # ✅ Valid variable name\n",
        "print(if_value)  # Output: 10\n",
        "```\n"
      ],
      "metadata": {
        "id": "w2umnDKLW0qJ"
      }
    },
    {
      "cell_type": "markdown",
      "source": [
        "5. What is mutability in Python?\n",
        "\n",
        "-> In Python, mutability refers to whether an object's value can change after it's created. Mutable objects can be changed in place, which means that modifying an object in one part of a program can change it in another part.\n",
        "Examples of mutable objects lists, dictionaries, and sets."
      ],
      "metadata": {
        "id": "1sMhvDOKZ8Hr"
      }
    },
    {
      "cell_type": "markdown",
      "source": [
        "6. Why are lists mutable, but tuples are immutable ?\n",
        "\n",
        "-> Tuples and lists are the same in every way except two: tuples use parentheses instead of square brackets, and the items in tuples cannot be modified (but the items in lists can be modified). We often call lists mutable (meaning they can be changed) and tuples immutable (meaning they cannot be changed)"
      ],
      "metadata": {
        "id": "OhDSbiwpbxgm"
      }
    },
    {
      "cell_type": "markdown",
      "source": [
        "7. What is the difference between “==” and “is” operators in Python?\n",
        "\n",
        "-> **Difference Between `==` and `is` Operators in Python**  \n",
        "\n",
        "| Operator | Purpose | Compares | Example | Output |\n",
        "|----------|---------|----------|---------|--------|\n",
        "| `==` | Equality Operator | **Values** of two objects | `a == b` | ✅ `True` if values are same |\n",
        "| `is` | Identity Operator | **Memory location (object identity)** | `a is b` | ✅ `True` if both refer to the same object in memory |\n",
        "\n",
        "### **Example:**\n",
        "```python\n",
        "a = [1, 2, 3]\n",
        "b = [1, 2, 3]\n",
        "c = a  \n",
        "\n",
        "print(a == b)  # ✅ True (values are same)\n",
        "print(a is b)  # ❌ False (different memory locations)\n",
        "print(a is c)  # ✅ True (same memory location)\n",
        "```\n"
      ],
      "metadata": {
        "id": "XGO9_axpcNJE"
      }
    },
    {
      "cell_type": "markdown",
      "source": [
        "8. What are logical operators in Python ?\n",
        "\n",
        "-> Logical operators in Python are keywords that combine and evaluate multiple conditions in a single expression. The three logical operators in Python are and, or, and not.\n",
        "\n",
        "Logical operators in Python:\n",
        "\n",
        "and: Returns True if both statements are true. For example, x < 5 and x < 10.\n",
        "\n",
        "or: Returns True if one of the statements is true. For example, x < 5 or x < 4.\n",
        "\n",
        "not: Reverses the result, returning False if the result is true. For example, not(x < 5 and x < 10)."
      ],
      "metadata": {
        "id": "mq3Lx8Yofbs8"
      }
    },
    {
      "cell_type": "markdown",
      "source": [
        "9. What is type casting in Python?\n",
        "-> Type casting is the process of **converting one data type into another** in Python.  \n",
        "\n",
        " **Types of Type Casting:**  \n",
        "1. **Implicit Type Casting (Automatic)** – Python automatically converts a smaller data type to a larger one.  \n",
        "   ```python\n",
        "   a = 5   \n",
        "   b = 2.5  \n",
        "   c = a + b  \n",
        "   print(c, type(c))  # Output: 7.5 <class 'float'>\n",
        "   ```\n",
        "\n",
        "2. **Explicit Type Casting (Manual)** – Done using functions like `int()`, `float()`, `str()`, etc.  \n",
        "   ```python\n",
        "   x = \"10\"\n",
        "   y = int(x)  \n",
        "   print(y, type(y))  # Output: 10 <class 'int'>\n",
        "   ```\n",
        "\n",
        "🔹 **Key Functions:** `int()`, `float()`, `str()`, `list()`, `tuple()`, etc. 🚀"
      ],
      "metadata": {
        "id": "NWYMb2rYgS8A"
      }
    },
    {
      "cell_type": "markdown",
      "source": [
        "10. What is the difference between implicit and explicit type casting?\n",
        "->  \n",
        "\n",
        "| **Type**        | **Conversion** | **Example** |\n",
        "|----------------|--------------|------------|\n",
        "| **Implicit**   | **Automatically** done by Python | `a = 5 + 2.5` → `7.5` (int → float) |\n",
        "| **Explicit**   | **Manually** done using functions like `int()`, `float()`, `str()` | `b = int(\"10\")` → `10` (str → int) |\n",
        "\n",
        "🔹 **Implicit = Automatic conversion**  \n",
        "🔹 **Explicit = Manual conversion using functions** 🚀"
      ],
      "metadata": {
        "id": "uBs0j1syhVyn"
      }
    },
    {
      "cell_type": "markdown",
      "source": [
        "11. What is the purpose of conditional statements in Python ?\n",
        "-> The purpose of conditional statements in Python is to control the order of code execution based on conditions. This helps programs make decisions and perform specific tasks when certain conditions are met.\n",
        "\n",
        "Examples of conditional statements:\n",
        "\n",
        "If statement: Runs a section of code if the conditional is true.\n",
        "\n",
        "If-else statements: Used to separate even and odd numbers.\n",
        "\n",
        "If-elif-else ladder: A type of conditional statement that can check multiple conditions."
      ],
      "metadata": {
        "id": "-djSVJyTivJz"
      }
    },
    {
      "cell_type": "markdown",
      "source": [
        "12.How does the elif statement work?\n",
        "-> The “elif” keyword in Python, stands for “else if”. It can be used in conditional statements to check for multiple conditions. For example, if the first condition is false, it moves on to the next “elif” statement to check if that condition is true."
      ],
      "metadata": {
        "id": "YstFmgVFkWQw"
      }
    },
    {
      "cell_type": "markdown",
      "source": [
        "13. What is the difference between for and while loops?\n",
        "->\n",
        "\n",
        "| Feature       | `for` Loop | `while` Loop |\n",
        "|--------------|-----------|-------------|\n",
        "| **Use Case** | Used when the number of iterations is **known** | Used when the number of iterations is **unknown** |\n",
        "| **Condition** | Iterates over a sequence (list, range, string, etc.) | Runs **until** a condition becomes `False` |\n",
        "| **Example** | `for i in range(5): print(i)` | `while i < 5: print(i); i += 1` |\n",
        "\n",
        "### **Examples:**  \n",
        "✅ **For Loop (Fixed Iterations)**  \n",
        "```python\n",
        "for i in range(3):  \n",
        "    print(i)  \n",
        "# Output: 0 1 2\n",
        "```\n",
        "\n",
        "✅ **While Loop (Condition-Based Iteration)**  \n",
        "```python\n",
        "i = 0  \n",
        "while i < 3:  \n",
        "    print(i)  \n",
        "    i += 1  \n",
        "# Output: 0 1 2\n",
        "```\n",
        "\n",
        "🔹 **Use `for` when iterating over a sequence, and `while` when looping until a condition is met.** 🚀"
      ],
      "metadata": {
        "id": "1USL4PVukx2Z"
      }
    },
    {
      "cell_type": "markdown",
      "source": [
        "14.Describe a scenario where a while loop is more suitable than a for loop.\n",
        "\n",
        "-> **Example: User Login Attempts**  \n",
        "Suppose we want to allow a user **multiple login attempts** until they enter the correct password. Here, we don’t know in advance how many times the user will enter the wrong password, so a **while loop** is the best choice.  \n",
        "\n",
        "```python\n",
        "correct_password = \"python123\"\n",
        "user_input = \"\"\n",
        "\n",
        "while user_input != correct_password:\n",
        "    user_input = input(\"Enter password: \")\n",
        "    if user_input == correct_password:\n",
        "        print(\"Login successful!\")\n",
        "    else:\n",
        "        print(\"Incorrect password, try again.\")\n",
        "```\n",
        "\n",
        " **Why Use `while` Instead of `for`?**  \n",
        "- The number of attempts is **unknown**.  \n",
        "- The loop should **run until** the correct password is entered.  \n",
        "- A `for` loop is not suitable because it runs for a fixed number of times.  \n",
        "\n",
        "🔹 **Use `while` when looping depends on a condition rather than a fixed range.** 🚀"
      ],
      "metadata": {
        "id": "s0a7kbFmmZ-E"
      }
    },
    {
      "cell_type": "markdown",
      "source": [
        "#Practical questions"
      ],
      "metadata": {
        "id": "9FdWnmi1_lT8"
      }
    },
    {
      "cell_type": "code",
      "source": [
        "#1. Write a Python program to print \"Hello, World!\"\n",
        "\n",
        "x= \"Hello, World!\"\n",
        "print(x)"
      ],
      "metadata": {
        "colab": {
          "base_uri": "https://localhost:8080/"
        },
        "id": "xz4-ueOj_pls",
        "outputId": "6fb2292a-1a8d-4102-a502-90d4289c5ef2"
      },
      "execution_count": 1,
      "outputs": [
        {
          "output_type": "stream",
          "name": "stdout",
          "text": [
            "Hello, World!\n"
          ]
        }
      ]
    },
    {
      "cell_type": "code",
      "source": [
        "#2. Write a Python program that displays your name and age.\n",
        "\n",
        "name= \"Shreya Patra\"\n",
        "age= 19\n",
        "print(\"My name is\", name)\n",
        "print(\"I am\", age, \"years old.\")"
      ],
      "metadata": {
        "colab": {
          "base_uri": "https://localhost:8080/"
        },
        "id": "uZUEk7owAOZe",
        "outputId": "d423bdec-c17b-4ab3-b9dd-61a76282623f"
      },
      "execution_count": 4,
      "outputs": [
        {
          "output_type": "stream",
          "name": "stdout",
          "text": [
            "My name is Shreya Patra\n",
            "I am 19 years old.\n"
          ]
        }
      ]
    },
    {
      "cell_type": "code",
      "source": [
        "#3.  Write code to print all the pre-defined keywords in Python using the keyword library.\n",
        "\n",
        "import keyword\n",
        "\n",
        "keywords_list = keyword.kwlist\n",
        "\n",
        "# Print the keywords\n",
        "print(\"Python Keywords:\")\n",
        "for kw in keywords_list:\n",
        "    print(kw)\n"
      ],
      "metadata": {
        "colab": {
          "base_uri": "https://localhost:8080/"
        },
        "id": "hjK6D160BdT2",
        "outputId": "b997ba8e-cc92-430f-b39a-a013ae6a210e"
      },
      "execution_count": 5,
      "outputs": [
        {
          "output_type": "stream",
          "name": "stdout",
          "text": [
            "Python Keywords:\n",
            "False\n",
            "None\n",
            "True\n",
            "and\n",
            "as\n",
            "assert\n",
            "async\n",
            "await\n",
            "break\n",
            "class\n",
            "continue\n",
            "def\n",
            "del\n",
            "elif\n",
            "else\n",
            "except\n",
            "finally\n",
            "for\n",
            "from\n",
            "global\n",
            "if\n",
            "import\n",
            "in\n",
            "is\n",
            "lambda\n",
            "nonlocal\n",
            "not\n",
            "or\n",
            "pass\n",
            "raise\n",
            "return\n",
            "try\n",
            "while\n",
            "with\n",
            "yield\n"
          ]
        }
      ]
    },
    {
      "cell_type": "code",
      "source": [
        "#4. Write a program that checks if a given word is a Python keyword.\n",
        "\n",
        "import keyword\n",
        "\n",
        "word= input(\"Enter a word:\")\n",
        "\n",
        "if keyword.iskeyword(word):\n",
        "  print(word, \"is a keyword.\")\n",
        "else:\n",
        "  print(word, \"is not a keyword.\")"
      ],
      "metadata": {
        "colab": {
          "base_uri": "https://localhost:8080/"
        },
        "id": "8o7s1zylCAMI",
        "outputId": "ec3b4921-3d5c-4135-f64b-0bee9a5f908a"
      },
      "execution_count": 7,
      "outputs": [
        {
          "output_type": "stream",
          "name": "stdout",
          "text": [
            "Enter a word:is\n",
            "is is a keyword.\n"
          ]
        }
      ]
    },
    {
      "cell_type": "code",
      "source": [
        "#5. Create a list and tuple in Python, and demonstrate how attempting to change an element works differently for each.\n",
        "\n",
        "my_list = [1, 2, 3]\n",
        "print(\"Original list:\", my_list)\n",
        "\n",
        "my_list[1] = 99\n",
        "print(\"Modified list:\", my_list)\n",
        "\n",
        "my_tuple = (1, 2, 3)\n",
        "print(\"Original tuple:\", my_tuple)\n",
        "\n",
        "try:\n",
        "    my_tuple[1] = 99\n",
        "except TypeError as e:\n",
        "    print(\"Error:\", e)\n"
      ],
      "metadata": {
        "colab": {
          "base_uri": "https://localhost:8080/"
        },
        "id": "-E62tRzBCsDb",
        "outputId": "bd324c73-fb32-4d8e-b63f-c05220e415ef"
      },
      "execution_count": 8,
      "outputs": [
        {
          "output_type": "stream",
          "name": "stdout",
          "text": [
            "Original list: [1, 2, 3]\n",
            "Modified list: [1, 99, 3]\n",
            "Original tuple: (1, 2, 3)\n",
            "Error: 'tuple' object does not support item assignment\n"
          ]
        }
      ]
    },
    {
      "cell_type": "code",
      "source": [
        "#6. Write a function to demonstrate the behavior of mutable and immutable arguments.\n",
        "\n",
        "def modify_values(num, my_list):\n",
        "    num += 10\n",
        "    print(\"Inside function (num):\", num)\n",
        "\n",
        "    my_list.append(4)\n",
        "    print(\"Inside function (list):\", my_list)\n",
        "\n",
        "x = 5\n",
        "print(\"Before function call (num):\", x)\n",
        "\n",
        "y = [1, 2, 3]\n",
        "print(\"Before function call (list):\", y)\n",
        "\n",
        "modify_values(x, y)\n",
        "\n",
        "print(\"After function call (num):\", x)\n",
        "print(\"After function call (list):\", y)\n"
      ],
      "metadata": {
        "colab": {
          "base_uri": "https://localhost:8080/"
        },
        "id": "bcE-yXVlHMSa",
        "outputId": "b1ef1d00-f923-4362-caa0-2d1fa1d916e5"
      },
      "execution_count": 9,
      "outputs": [
        {
          "output_type": "stream",
          "name": "stdout",
          "text": [
            "Before function call (num): 5\n",
            "Before function call (list): [1, 2, 3]\n",
            "Inside function (num): 15\n",
            "Inside function (list): [1, 2, 3, 4]\n",
            "After function call (num): 5\n",
            "After function call (list): [1, 2, 3, 4]\n"
          ]
        }
      ]
    },
    {
      "cell_type": "code",
      "source": [
        "#7. Write a program that performs basic arithmetic operations on two user-input numbers.\n",
        "\n",
        "num1 = float(input(\"Enter first number: \"))\n",
        "num2 = float(input(\"Enter second number: \"))\n",
        "\n",
        "print(\"Sum:\", num1 + num2)\n",
        "print(\"Difference:\", num1 - num2)\n",
        "print(\"Product:\", num1 * num2)\n",
        "\n",
        "if num2 != 0:\n",
        "    print(\"Quotient:\", num1 / num2)\n",
        "else:\n",
        "    print(\"Division by zero is not allowed.\")\n"
      ],
      "metadata": {
        "colab": {
          "base_uri": "https://localhost:8080/"
        },
        "id": "InqgWx4aINQ4",
        "outputId": "926153e4-3a4d-42de-8093-f96473c7adfe"
      },
      "execution_count": 10,
      "outputs": [
        {
          "output_type": "stream",
          "name": "stdout",
          "text": [
            "Enter first number: 3\n",
            "Enter second number: 5\n",
            "Sum: 8.0\n",
            "Difference: -2.0\n",
            "Product: 15.0\n",
            "Quotient: 0.6\n"
          ]
        }
      ]
    },
    {
      "cell_type": "code",
      "source": [
        "#8.  Write a program to demonstrate the use of logical operators.\n",
        "\n",
        "a = int(input(\"Enter first number: \"))\n",
        "b = int(input(\"Enter second number: \"))\n",
        "\n",
        "print(\"Both numbers are positive:\", a > 0 and b > 0)\n",
        "\n",
        "print(\"At least one number is positive:\", a > 0 or b > 0)\n",
        "\n",
        "print(\"First number is NOT positive:\", not (a > 0))\n"
      ],
      "metadata": {
        "colab": {
          "base_uri": "https://localhost:8080/"
        },
        "id": "lhBNh1_MKV-O",
        "outputId": "e6c59e5b-df4a-4487-a749-dcc8172f8134"
      },
      "execution_count": 11,
      "outputs": [
        {
          "output_type": "stream",
          "name": "stdout",
          "text": [
            "Enter first number: 5\n",
            "Enter second number: 6\n",
            "Both numbers are positive: True\n",
            "At least one number is positive: True\n",
            "First number is NOT positive: False\n"
          ]
        }
      ]
    },
    {
      "cell_type": "code",
      "source": [
        "#9.  Write a Python program to convert user input from string to integer, float, and boolean types.\n",
        "\n",
        "user_input = input(\"Enter a value: \")\n",
        "\n",
        "try:\n",
        "    int_value = int(user_input)\n",
        "    print(\"Integer:\", int_value)\n",
        "except ValueError:\n",
        "    print(\"Cannot convert to integer.\")\n",
        "\n",
        "try:\n",
        "    float_value = float(user_input)\n",
        "    print(\"Float:\", float_value)\n",
        "except ValueError:\n",
        "    print(\"Cannot convert to float.\")\n",
        "\n",
        "bool_value = bool(user_input)\n",
        "print(\"Boolean:\", bool_value)\n"
      ],
      "metadata": {
        "colab": {
          "base_uri": "https://localhost:8080/"
        },
        "id": "ZIHkDGRQLYfH",
        "outputId": "2c377565-9c0a-4753-903c-79740d1017bf"
      },
      "execution_count": 12,
      "outputs": [
        {
          "output_type": "stream",
          "name": "stdout",
          "text": [
            "Enter a value: 3\n",
            "Integer: 3\n",
            "Float: 3.0\n",
            "Boolean: True\n"
          ]
        }
      ]
    },
    {
      "cell_type": "code",
      "source": [
        "#10.  Write code to demonstrate type casting with list elements.\n",
        "\n",
        "str_list = [\"10\", \"20\", \"30\", \"40.5\", \"50.8\"]\n",
        "\n",
        "int_list = [int(float(num)) for num in str_list]\n",
        "print(\"Integer List:\", int_list)\n",
        "\n",
        "float_list = [float(num) for num in str_list]\n",
        "print(\"Float List:\", float_list)\n",
        "\n",
        "str_list_again = [str(num) for num in int_list]\n",
        "print(\"String List:\", str_list_again)\n"
      ],
      "metadata": {
        "colab": {
          "base_uri": "https://localhost:8080/"
        },
        "id": "oNO00fJLNDwN",
        "outputId": "f7b90873-3c33-481f-f4cf-f6d698b8ae16"
      },
      "execution_count": 13,
      "outputs": [
        {
          "output_type": "stream",
          "name": "stdout",
          "text": [
            "Integer List: [10, 20, 30, 40, 50]\n",
            "Float List: [10.0, 20.0, 30.0, 40.5, 50.8]\n",
            "String List: ['10', '20', '30', '40', '50']\n"
          ]
        }
      ]
    },
    {
      "cell_type": "code",
      "source": [
        "#11. Write a program that checks if a number is positive, negative, or zero.\n",
        "\n",
        "num = float(input(\"Enter a number: \"))\n",
        "\n",
        "if num > 0:\n",
        "    print(\"The number is positive.\")\n",
        "elif num < 0:\n",
        "    print(\"The number is negative.\")\n",
        "else:\n",
        "    print(\"The number is zero.\")\n"
      ],
      "metadata": {
        "colab": {
          "base_uri": "https://localhost:8080/"
        },
        "id": "RndgNX65N9bC",
        "outputId": "c3a2c971-fe3c-46dc-84cf-484e05432689"
      },
      "execution_count": 1,
      "outputs": [
        {
          "output_type": "stream",
          "name": "stdout",
          "text": [
            "Enter a number: 6\n",
            "The number is positive.\n"
          ]
        }
      ]
    },
    {
      "cell_type": "code",
      "source": [
        "#12.  Write a for loop to print numbers from 1 to 10.\n",
        "\n",
        "for num in range(1, 11):\n",
        "    print(num)\n"
      ],
      "metadata": {
        "colab": {
          "base_uri": "https://localhost:8080/"
        },
        "id": "rG2A8YBlkdgV",
        "outputId": "837c3243-8689-4d74-8f93-74c1cc6689e9"
      },
      "execution_count": 2,
      "outputs": [
        {
          "output_type": "stream",
          "name": "stdout",
          "text": [
            "1\n",
            "2\n",
            "3\n",
            "4\n",
            "5\n",
            "6\n",
            "7\n",
            "8\n",
            "9\n",
            "10\n"
          ]
        }
      ]
    },
    {
      "cell_type": "code",
      "source": [
        "#13.  Write a Python program to find the sum of all even numbers between 1 and 50.\n",
        "\n",
        "even_sum = 0\n",
        "\n",
        "for num in range(2, 51, 2):\n",
        "    even_sum += num\n",
        "\n",
        "print(\"Sum of even numbers from 1 to 50:\", even_sum)\n"
      ],
      "metadata": {
        "colab": {
          "base_uri": "https://localhost:8080/"
        },
        "id": "sNuJx1FuktQw",
        "outputId": "6c72a71e-fab7-47d9-fa68-dc1d25881a06"
      },
      "execution_count": 3,
      "outputs": [
        {
          "output_type": "stream",
          "name": "stdout",
          "text": [
            "Sum of even numbers from 1 to 50: 650\n"
          ]
        }
      ]
    },
    {
      "cell_type": "code",
      "source": [
        "#14. Write a program to reverse a string using a while loop.\n",
        "\n",
        "string = input(\"Enter a string: \")\n",
        "\n",
        "reversed_string = \"\"\n",
        "index = len(string) - 1\n",
        "\n",
        "while index >= 0:\n",
        "    reversed_string += string[index]\n",
        "    index -= 1\n",
        "\n",
        "print(\"Reversed string:\", reversed_string)\n"
      ],
      "metadata": {
        "colab": {
          "base_uri": "https://localhost:8080/"
        },
        "id": "-UhOWjvYlaUa",
        "outputId": "5dadeeef-b497-48e9-a105-fa47b5fe2ddd"
      },
      "execution_count": 4,
      "outputs": [
        {
          "output_type": "stream",
          "name": "stdout",
          "text": [
            "Enter a string: bsxskh\n",
            "Reversed string: hksxsb\n"
          ]
        }
      ]
    },
    {
      "cell_type": "code",
      "source": [
        "#15. Write a Python program to calculate the factorial of a number provided by the user using a while loop.\n",
        "\n",
        "num = int(input(\"Enter a number: \"))\n",
        "\n",
        "factorial = 1\n",
        "i = num\n",
        "\n",
        "while i > 0:\n",
        "    factorial *= i\n",
        "    i -= 1\n",
        "\n",
        "print(\"Factorial of\", num, \"is\", factorial)\n"
      ],
      "metadata": {
        "colab": {
          "base_uri": "https://localhost:8080/"
        },
        "id": "SVxtXpVSmsHx",
        "outputId": "890b8fa0-4a3c-4db0-c079-c1f6e6b149a6"
      },
      "execution_count": 5,
      "outputs": [
        {
          "output_type": "stream",
          "name": "stdout",
          "text": [
            "Enter a number: 7\n",
            "Factorial of 7 is 5040\n"
          ]
        }
      ]
    }
  ]
}